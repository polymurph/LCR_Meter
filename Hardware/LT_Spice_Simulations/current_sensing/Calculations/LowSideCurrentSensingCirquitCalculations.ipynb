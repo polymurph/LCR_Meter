{
 "cells": [
  {
   "cell_type": "code",
   "execution_count": 1,
   "metadata": {},
   "outputs": [],
   "source": [
    "import numpy as np\n",
    "\n",
    "# this design is based on the application note \"Low-Side Current Sensing Circuit Design\" (No. 64AN060E Rev.004) from Rhom \n",
    "\n",
    "# LCR design specifications\n",
    "f_max = 15e6 # [Hz] max measurement frequency[Hz]\n",
    "nSamplesForfMax = 10 # [] n samples for f_max (must be minimum 2x -> Nyquist Theorem!)\n",
    "\n",
    "# parameters resulting of LCR design specifications\n",
    "f_sampling = nSamplesForfMax * f_max\n",
    "\n",
    "# design specifications following the application note\n",
    "IloadMin = 1e-9 # [A]\n",
    "IloadMax = 100e-9 # [A]\n",
    "Err = # Current sensing error [%]\n",
    "fsense = f_max # [Hz]\n",
    "VeltaVshuntMax = 1e-3 # [V]\n",
    "VeltaVshuntMin = 1e-9 # [V]\n",
    "\n",
    "\n",
    "\n",
    "\n",
    "# parameters resulting of design specifications\n",
    "IloadRange = IloadMax - IloadMin\n",
    "\n"
   ]
  }
 ],
 "metadata": {
  "kernelspec": {
   "display_name": "Python 3",
   "language": "python",
   "name": "python3"
  },
  "language_info": {
   "codemirror_mode": {
    "name": "ipython",
    "version": 3
   },
   "file_extension": ".py",
   "mimetype": "text/x-python",
   "name": "python",
   "nbconvert_exporter": "python",
   "pygments_lexer": "ipython3",
   "version": "3.7.1"
  }
 },
 "nbformat": 4,
 "nbformat_minor": 2
}
